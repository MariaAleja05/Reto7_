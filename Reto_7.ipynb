{
  "nbformat": 4,
  "nbformat_minor": 0,
  "metadata": {
    "colab": {
      "provenance": []
    },
    "kernelspec": {
      "name": "python3",
      "display_name": "Python 3"
    },
    "language_info": {
      "name": "python"
    }
  },
  "cells": [
    {
      "cell_type": "markdown",
      "source": [
        "##**Punto 1**"
      ],
      "metadata": {
        "id": "erefdJazMSd7"
      }
    },
    {
      "cell_type": "markdown",
      "source": [
        "**Enunciado:** Imprimir un listado con los números del 1 al 100 cada uno con su respectivo cuadrado."
      ],
      "metadata": {
        "id": "PgSjAMA1MCcc"
      }
    },
    {
      "cell_type": "code",
      "execution_count": null,
      "metadata": {
        "colab": {
          "base_uri": "https://localhost:8080/"
        },
        "id": "f0HQIkJ6LxsF",
        "outputId": "a19cba03-330e-412f-cb44-515d55db3e7d"
      },
      "outputs": [
        {
          "output_type": "stream",
          "name": "stdout",
          "text": [
            "[1, 4, 9, 16, 25, 36, 49, 64, 81, 100, 121, 144, 169, 196, 225, 256, 289, 324, 361, 400, 441, 484, 529, 576, 625, 676, 729, 784, 841, 900, 961, 1024, 1089, 1156, 1225, 1296, 1369, 1444, 1521, 1600, 1681, 1764, 1849, 1936, 2025, 2116, 2209, 2304, 2401, 2500, 2601, 2704, 2809, 2916, 3025, 3136, 3249, 3364, 3481, 3600, 3721, 3844, 3969, 4096, 4225, 4356, 4489, 4624, 4761, 4900, 5041, 5184, 5329, 5476, 5625, 5776, 5929, 6084, 6241, 6400, 6561, 6724, 6889, 7056, 7225, 7396, 7569, 7744, 7921, 8100, 8281, 8464, 8649, 8836, 9025, 9216, 9409, 9604, 9801, 10000]\n"
          ]
        }
      ],
      "source": [
        "n= 1\n",
        "Lista=[]\n",
        "\n",
        "while n <= 100:\n",
        "  cuadrado = n**2\n",
        "  Lista.append(cuadrado)\n",
        "  n += 1\n",
        "\n",
        "print(Lista)"
      ]
    },
    {
      "cell_type": "markdown",
      "source": [
        "##**Punto 2**"
      ],
      "metadata": {
        "id": "zEJtfinANeAQ"
      }
    },
    {
      "cell_type": "markdown",
      "source": [
        "**Enunciado:** Imprimir un listado con los números impares desde 1 hasta 999 y seguidamente otro listado con los números pares desde 2 hasta 1000."
      ],
      "metadata": {
        "id": "xo1-xylgNgQR"
      }
    },
    {
      "cell_type": "code",
      "source": [
        "n = 1\n",
        "Lista_impares=[]\n",
        "Lista_pares=[]\n",
        "\n",
        "while n <= 1000:\n",
        "  if n%2==0:\n",
        "    Lista_pares.append(n)\n",
        "  else:\n",
        "    Lista_impares.append(n)\n",
        "  n += 1\n",
        "\n",
        "print(\"Los números impares: \" + str(Lista_impares))\n",
        "print(\"Los números pares: \" + str(Lista_pares))"
      ],
      "metadata": {
        "colab": {
          "base_uri": "https://localhost:8080/"
        },
        "id": "c6CO_yR5Noan",
        "outputId": "2e7ffbef-2584-4e0c-fac7-5d95786744b3"
      },
      "execution_count": null,
      "outputs": [
        {
          "output_type": "stream",
          "name": "stdout",
          "text": [
            "Los números impares: [1, 3, 5, 7, 9, 11, 13, 15, 17, 19, 21, 23, 25, 27, 29, 31, 33, 35, 37, 39, 41, 43, 45, 47, 49, 51, 53, 55, 57, 59, 61, 63, 65, 67, 69, 71, 73, 75, 77, 79, 81, 83, 85, 87, 89, 91, 93, 95, 97, 99, 101, 103, 105, 107, 109, 111, 113, 115, 117, 119, 121, 123, 125, 127, 129, 131, 133, 135, 137, 139, 141, 143, 145, 147, 149, 151, 153, 155, 157, 159, 161, 163, 165, 167, 169, 171, 173, 175, 177, 179, 181, 183, 185, 187, 189, 191, 193, 195, 197, 199, 201, 203, 205, 207, 209, 211, 213, 215, 217, 219, 221, 223, 225, 227, 229, 231, 233, 235, 237, 239, 241, 243, 245, 247, 249, 251, 253, 255, 257, 259, 261, 263, 265, 267, 269, 271, 273, 275, 277, 279, 281, 283, 285, 287, 289, 291, 293, 295, 297, 299, 301, 303, 305, 307, 309, 311, 313, 315, 317, 319, 321, 323, 325, 327, 329, 331, 333, 335, 337, 339, 341, 343, 345, 347, 349, 351, 353, 355, 357, 359, 361, 363, 365, 367, 369, 371, 373, 375, 377, 379, 381, 383, 385, 387, 389, 391, 393, 395, 397, 399, 401, 403, 405, 407, 409, 411, 413, 415, 417, 419, 421, 423, 425, 427, 429, 431, 433, 435, 437, 439, 441, 443, 445, 447, 449, 451, 453, 455, 457, 459, 461, 463, 465, 467, 469, 471, 473, 475, 477, 479, 481, 483, 485, 487, 489, 491, 493, 495, 497, 499, 501, 503, 505, 507, 509, 511, 513, 515, 517, 519, 521, 523, 525, 527, 529, 531, 533, 535, 537, 539, 541, 543, 545, 547, 549, 551, 553, 555, 557, 559, 561, 563, 565, 567, 569, 571, 573, 575, 577, 579, 581, 583, 585, 587, 589, 591, 593, 595, 597, 599, 601, 603, 605, 607, 609, 611, 613, 615, 617, 619, 621, 623, 625, 627, 629, 631, 633, 635, 637, 639, 641, 643, 645, 647, 649, 651, 653, 655, 657, 659, 661, 663, 665, 667, 669, 671, 673, 675, 677, 679, 681, 683, 685, 687, 689, 691, 693, 695, 697, 699, 701, 703, 705, 707, 709, 711, 713, 715, 717, 719, 721, 723, 725, 727, 729, 731, 733, 735, 737, 739, 741, 743, 745, 747, 749, 751, 753, 755, 757, 759, 761, 763, 765, 767, 769, 771, 773, 775, 777, 779, 781, 783, 785, 787, 789, 791, 793, 795, 797, 799, 801, 803, 805, 807, 809, 811, 813, 815, 817, 819, 821, 823, 825, 827, 829, 831, 833, 835, 837, 839, 841, 843, 845, 847, 849, 851, 853, 855, 857, 859, 861, 863, 865, 867, 869, 871, 873, 875, 877, 879, 881, 883, 885, 887, 889, 891, 893, 895, 897, 899, 901, 903, 905, 907, 909, 911, 913, 915, 917, 919, 921, 923, 925, 927, 929, 931, 933, 935, 937, 939, 941, 943, 945, 947, 949, 951, 953, 955, 957, 959, 961, 963, 965, 967, 969, 971, 973, 975, 977, 979, 981, 983, 985, 987, 989, 991, 993, 995, 997, 999]\n",
            "Los números pares: [2, 4, 6, 8, 10, 12, 14, 16, 18, 20, 22, 24, 26, 28, 30, 32, 34, 36, 38, 40, 42, 44, 46, 48, 50, 52, 54, 56, 58, 60, 62, 64, 66, 68, 70, 72, 74, 76, 78, 80, 82, 84, 86, 88, 90, 92, 94, 96, 98, 100, 102, 104, 106, 108, 110, 112, 114, 116, 118, 120, 122, 124, 126, 128, 130, 132, 134, 136, 138, 140, 142, 144, 146, 148, 150, 152, 154, 156, 158, 160, 162, 164, 166, 168, 170, 172, 174, 176, 178, 180, 182, 184, 186, 188, 190, 192, 194, 196, 198, 200, 202, 204, 206, 208, 210, 212, 214, 216, 218, 220, 222, 224, 226, 228, 230, 232, 234, 236, 238, 240, 242, 244, 246, 248, 250, 252, 254, 256, 258, 260, 262, 264, 266, 268, 270, 272, 274, 276, 278, 280, 282, 284, 286, 288, 290, 292, 294, 296, 298, 300, 302, 304, 306, 308, 310, 312, 314, 316, 318, 320, 322, 324, 326, 328, 330, 332, 334, 336, 338, 340, 342, 344, 346, 348, 350, 352, 354, 356, 358, 360, 362, 364, 366, 368, 370, 372, 374, 376, 378, 380, 382, 384, 386, 388, 390, 392, 394, 396, 398, 400, 402, 404, 406, 408, 410, 412, 414, 416, 418, 420, 422, 424, 426, 428, 430, 432, 434, 436, 438, 440, 442, 444, 446, 448, 450, 452, 454, 456, 458, 460, 462, 464, 466, 468, 470, 472, 474, 476, 478, 480, 482, 484, 486, 488, 490, 492, 494, 496, 498, 500, 502, 504, 506, 508, 510, 512, 514, 516, 518, 520, 522, 524, 526, 528, 530, 532, 534, 536, 538, 540, 542, 544, 546, 548, 550, 552, 554, 556, 558, 560, 562, 564, 566, 568, 570, 572, 574, 576, 578, 580, 582, 584, 586, 588, 590, 592, 594, 596, 598, 600, 602, 604, 606, 608, 610, 612, 614, 616, 618, 620, 622, 624, 626, 628, 630, 632, 634, 636, 638, 640, 642, 644, 646, 648, 650, 652, 654, 656, 658, 660, 662, 664, 666, 668, 670, 672, 674, 676, 678, 680, 682, 684, 686, 688, 690, 692, 694, 696, 698, 700, 702, 704, 706, 708, 710, 712, 714, 716, 718, 720, 722, 724, 726, 728, 730, 732, 734, 736, 738, 740, 742, 744, 746, 748, 750, 752, 754, 756, 758, 760, 762, 764, 766, 768, 770, 772, 774, 776, 778, 780, 782, 784, 786, 788, 790, 792, 794, 796, 798, 800, 802, 804, 806, 808, 810, 812, 814, 816, 818, 820, 822, 824, 826, 828, 830, 832, 834, 836, 838, 840, 842, 844, 846, 848, 850, 852, 854, 856, 858, 860, 862, 864, 866, 868, 870, 872, 874, 876, 878, 880, 882, 884, 886, 888, 890, 892, 894, 896, 898, 900, 902, 904, 906, 908, 910, 912, 914, 916, 918, 920, 922, 924, 926, 928, 930, 932, 934, 936, 938, 940, 942, 944, 946, 948, 950, 952, 954, 956, 958, 960, 962, 964, 966, 968, 970, 972, 974, 976, 978, 980, 982, 984, 986, 988, 990, 992, 994, 996, 998, 1000]\n"
          ]
        }
      ]
    },
    {
      "cell_type": "markdown",
      "source": [
        "##**Punto 3**"
      ],
      "metadata": {
        "id": "HT3fw0L6POBC"
      }
    },
    {
      "cell_type": "markdown",
      "source": [
        "**Enunciado:** Imprimir los números pares en forma descendente hasta 2 que son menores o iguales a un número natural n ≥ 2 dado"
      ],
      "metadata": {
        "id": "71F_IplCPQyZ"
      }
    },
    {
      "cell_type": "code",
      "source": [
        "n = int(input(\"Ingrese un número mayor o igual a 2: \"))\n",
        "m=n\n",
        "lista = []\n",
        "\n",
        "while m<=n:\n",
        "  if m>1:\n",
        "    if m%2==0:\n",
        "      lista.append(m)\n",
        "    m -= 1\n",
        "  else:\n",
        "    break\n",
        "print(\"Los números pares desde n hasta 2 son: \" + str(lista))\n",
        "\n"
      ],
      "metadata": {
        "id": "egXaEsllPTS9",
        "colab": {
          "base_uri": "https://localhost:8080/"
        },
        "outputId": "d3d34b2f-093f-4692-f0a8-c28332f35cc4"
      },
      "execution_count": null,
      "outputs": [
        {
          "output_type": "stream",
          "name": "stdout",
          "text": [
            "Ingrese un número mayor o igual a 2: 54\n",
            "Los números pares desde n hasta 2 son: [54, 52, 50, 48, 46, 44, 42, 40, 38, 36, 34, 32, 30, 28, 26, 24, 22, 20, 18, 16, 14, 12, 10, 8, 6, 4, 2]\n"
          ]
        }
      ]
    },
    {
      "cell_type": "markdown",
      "source": [
        "##**Punto 4**"
      ],
      "metadata": {
        "id": "D154e8RVPfeM"
      }
    },
    {
      "cell_type": "markdown",
      "source": [
        "**Enunciado:** En 2022 el país A tendrá una población de 25 millones de habitantes y el país B de 18.9 millones. Las tasas de crecimiento anual de la población serán de 2% y 3% respectivamente. Desarrollar un algoritmo para informar en que año la población del país B superará a la de A."
      ],
      "metadata": {
        "id": "QlYt0Qs5PjBj"
      }
    },
    {
      "cell_type": "code",
      "source": [
        "A = 25000000\n",
        "B = 18900000\n",
        "tiempo = int(input(\"Ingrese el año de inicio:\"))\n",
        "\n",
        "while B <= A:\n",
        "    crecimientoA = (A * 2) / 100\n",
        "    crecimientoB = (B * 3) / 100\n",
        "    A += crecimientoA\n",
        "    B += crecimientoB\n",
        "    tiempo += 1\n",
        "\n",
        "print(\"Para el año \" + str(tiempo) + \" la población del país B superará a la de A\")"
      ],
      "metadata": {
        "colab": {
          "base_uri": "https://localhost:8080/"
        },
        "id": "JGsJFKiCPmbr",
        "outputId": "67fc9d8f-b545-4f6b-929a-900ca5f0ccf8"
      },
      "execution_count": null,
      "outputs": [
        {
          "output_type": "stream",
          "name": "stdout",
          "text": [
            "Ingrese el año de inicio:2022\n",
            "Para el año 2051 la población del país B superará a la de A\n"
          ]
        }
      ]
    },
    {
      "cell_type": "markdown",
      "source": [
        "##**Punto 5**"
      ],
      "metadata": {
        "id": "1NJcB7QPRShi"
      }
    },
    {
      "cell_type": "markdown",
      "source": [
        "**Enunciado:** Imprimir el factorial de un número natural n dado."
      ],
      "metadata": {
        "id": "nZGGTwAURVUv"
      }
    },
    {
      "cell_type": "code",
      "source": [
        "n = int(input(\"Ingrese un número natural:\"))\n",
        "factorial = 1\n",
        "\n",
        "while n > 0:\n",
        "  factorial *= n\n",
        "  n -= 1\n",
        "\n",
        "print(\"El factorial del número es: \" + str(factorial))"
      ],
      "metadata": {
        "colab": {
          "base_uri": "https://localhost:8080/"
        },
        "id": "OLSf5lEZRYwe",
        "outputId": "0b3f16b5-0326-4e48-a723-03b3d254fb36"
      },
      "execution_count": null,
      "outputs": [
        {
          "output_type": "stream",
          "name": "stdout",
          "text": [
            "Ingrese un número natural:7\n",
            "El factorial del número es: 5040\n"
          ]
        }
      ]
    },
    {
      "cell_type": "markdown",
      "source": [
        "##**Punto 6**"
      ],
      "metadata": {
        "id": "l2JbydfbSYzZ"
      }
    },
    {
      "cell_type": "markdown",
      "source": [
        "**Enunciado:** Implementar un algoritmo que permita adivinar un número dado de 1 a 100, preguntando en cada caso si el número es mayor, menor o igual."
      ],
      "metadata": {
        "id": "3nER0LMPSbS-"
      }
    },
    {
      "cell_type": "code",
      "source": [
        "import random\n",
        "n = int(input(\"Ingrese un número:\"))\n",
        "min = 1\n",
        "max = 100\n",
        "bandera : bool = True\n",
        "while bandera == True:\n",
        "  n_random=random.randint(min, max)\n",
        "  pregunta = input(\"El número es mayor, menor, o igual que: \" + str(n_random) + \" \")\n",
        "  if pregunta == \"mayor\":\n",
        "    min = n_random + 1\n",
        "  elif pregunta ==\"menor\":\n",
        "    max = n_random - 1\n",
        "  else:\n",
        "    break\n",
        "print(\"El número es: \" + str(n_random))"
      ],
      "metadata": {
        "id": "Hj0gZVJqSee7",
        "colab": {
          "base_uri": "https://localhost:8080/"
        },
        "outputId": "3688df1f-02c3-46c5-c35d-0cfd4fd48057"
      },
      "execution_count": null,
      "outputs": [
        {
          "output_type": "stream",
          "name": "stdout",
          "text": [
            "Ingrese un número:20\n",
            "El número es mayor, menor, o igual que: 34menor\n",
            "El número es mayor, menor, o igual que: 30menor\n",
            "El número es mayor, menor, o igual que: 17mayor\n",
            "El número es mayor, menor, o igual que: 25menor\n",
            "El número es mayor, menor, o igual que: 24menor\n",
            "El número es mayor, menor, o igual que: 21menor\n",
            "El número es mayor, menor, o igual que: 18mayor\n",
            "El número es mayor, menor, o igual que: 20igual\n",
            "El número es: 20\n"
          ]
        }
      ]
    },
    {
      "cell_type": "markdown",
      "source": [
        "##**Punto 7**"
      ],
      "metadata": {
        "id": "up2Go_qmS4NB"
      }
    },
    {
      "cell_type": "markdown",
      "source": [
        "**Enunciado:** Implementar un programa que ingrese un número de 2 a 50 y muestre sus divisores."
      ],
      "metadata": {
        "id": "_pwhBeQcS6Dx"
      }
    },
    {
      "cell_type": "code",
      "source": [
        "n = int(input(\"Ingresar un numero de 2 a 50:\"))\n",
        "divisor = 1\n",
        "Lista_divisores=[]\n",
        "\n",
        "while divisor <= n:\n",
        "  if n % divisor == 0:\n",
        "    Lista_divisores.append(divisor)\n",
        "    divisor += 1\n",
        "  else:\n",
        "    divisor += 1\n",
        "\n",
        "print(Lista_divisores)"
      ],
      "metadata": {
        "colab": {
          "base_uri": "https://localhost:8080/"
        },
        "id": "tJin4u8XS_23",
        "outputId": "71d5b054-e566-4de5-b72d-a71579e4b7b1"
      },
      "execution_count": 3,
      "outputs": [
        {
          "output_type": "stream",
          "name": "stdout",
          "text": [
            "Ingresar un npumero de 2 a 50:7\n",
            "[1, 7]\n"
          ]
        }
      ]
    },
    {
      "cell_type": "markdown",
      "source": [
        "##**Punto 8**"
      ],
      "metadata": {
        "id": "Gc7efBzpT3rg"
      }
    },
    {
      "cell_type": "markdown",
      "source": [
        "**Enunciado:** Implementar el algoritmo que muestre los números primos del 1 al 100."
      ],
      "metadata": {
        "id": "ATb40zbCT7B3"
      }
    },
    {
      "cell_type": "code",
      "source": [
        "def EncontrarNumerosPrimos(numero: int, m: int, c: int) -> int:\n",
        "  while numero < 100:\n",
        "    numero += 1\n",
        "    m = 1\n",
        "    c = 0\n",
        "    while m <= (numero**0.5):\n",
        "      if numero%m==0:\n",
        "        c += 1\n",
        "      m += 1\n",
        "    if c == 1:\n",
        "      lista.append(numero)\n",
        "  return lista\n",
        "if __name__ == \"__main__\":\n",
        "  numero: int = 1\n",
        "  m: int = 1\n",
        "  c: int = 0\n",
        "  lista=[]\n",
        "  num_primo = EncontrarNumerosPrimos(numero, m, c)\n",
        "  print(num_primo)"
      ],
      "metadata": {
        "colab": {
          "base_uri": "https://localhost:8080/"
        },
        "id": "9fcq9z6Gs5BF",
        "outputId": "55aef5cc-4c34-4650-c38c-2883514f2930"
      },
      "execution_count": 7,
      "outputs": [
        {
          "output_type": "stream",
          "name": "stdout",
          "text": [
            "[2, 3, 5, 7, 11, 13, 17, 19, 23, 29, 31, 37, 41, 43, 47, 53, 59, 61, 67, 71, 73, 79, 83, 89, 97]\n"
          ]
        }
      ]
    }
  ]
}